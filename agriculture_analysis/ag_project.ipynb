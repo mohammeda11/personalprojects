{
  "nbformat": 4,
  "nbformat_minor": 0,
  "metadata": {
    "colab": {
      "provenance": []
    },
    "kernelspec": {
      "name": "python3",
      "display_name": "Python 3"
    },
    "language_info": {
      "name": "python"
    }
  },
  "cells": [
    {
      "cell_type": "code",
      "execution_count": null,
      "metadata": {
        "id": "Bt5VFO0DhmPN",
        "colab": {
          "base_uri": "https://localhost:8080/"
        },
        "outputId": "447d0618-f6e2-40ac-e015-31ef507a2186"
      },
      "outputs": [
        {
          "output_type": "stream",
          "name": "stdout",
          "text": [
            "Mounted at drive\n"
          ]
        }
      ],
      "source": [
        "import pandas as pd\n",
        "from google.colab import drive\n",
        "drive.mount('drive')"
      ]
    },
    {
      "cell_type": "code",
      "source": [
        "df1 = pd.read_csv('FEA_Access.csv')\n",
        "df1.head()"
      ],
      "metadata": {
        "id": "Ta-QoKeIh6Zg",
        "colab": {
          "base_uri": "https://localhost:8080/",
          "height": 270
        },
        "outputId": "2cdbe5ad-2f6b-4a1b-e878-7c3b2c1e4834"
      },
      "execution_count": null,
      "outputs": [
        {
          "output_type": "execute_result",
          "data": {
            "text/plain": [
              "   FIPS State   County  LACCESS_POP10  LACCESS_POP15  GROC11  GROC16  FFR11  \\\n",
              "0  1001    AL  Autauga   18428.439690   17496.693040       5       3     34   \n",
              "1  1003    AL  Baldwin   35210.814080   30561.264430      27      29    121   \n",
              "2  1005    AL  Barbour    5722.305602    6069.523628       6       4     19   \n",
              "3  1007    AL     Bibb    1044.867327     969.378841       6       5      6   \n",
              "4  1009    AL   Blount    1548.175559    3724.428242       7       5     20   \n",
              "\n",
              "   FFR16  VEG_ACRES07  VEG_ACRES12  ORCHARD_ACRES07  ORCHARD_ACRES12  \\\n",
              "0     44        948.0       1230.0            384.0            402.0   \n",
              "1    156       2280.0       1958.0           4333.0           3361.0   \n",
              "2     23         32.0         41.0           1047.0            799.0   \n",
              "3      7         65.0         14.0              NaN             13.0   \n",
              "4     23        585.0        677.0            193.0            176.0   \n",
              "\n",
              "   BERRY_ACRES07  BERRY_ACRES12  \n",
              "0            NaN            5.0  \n",
              "1           79.0           93.0  \n",
              "2            NaN           42.0  \n",
              "3            6.0            NaN  \n",
              "4           28.0           38.0  "
            ],
            "text/html": [
              "\n",
              "  <div id=\"df-48c6c053-2d56-4892-9f55-bb889bdf1f04\">\n",
              "    <div class=\"colab-df-container\">\n",
              "      <div>\n",
              "<style scoped>\n",
              "    .dataframe tbody tr th:only-of-type {\n",
              "        vertical-align: middle;\n",
              "    }\n",
              "\n",
              "    .dataframe tbody tr th {\n",
              "        vertical-align: top;\n",
              "    }\n",
              "\n",
              "    .dataframe thead th {\n",
              "        text-align: right;\n",
              "    }\n",
              "</style>\n",
              "<table border=\"1\" class=\"dataframe\">\n",
              "  <thead>\n",
              "    <tr style=\"text-align: right;\">\n",
              "      <th></th>\n",
              "      <th>FIPS</th>\n",
              "      <th>State</th>\n",
              "      <th>County</th>\n",
              "      <th>LACCESS_POP10</th>\n",
              "      <th>LACCESS_POP15</th>\n",
              "      <th>GROC11</th>\n",
              "      <th>GROC16</th>\n",
              "      <th>FFR11</th>\n",
              "      <th>FFR16</th>\n",
              "      <th>VEG_ACRES07</th>\n",
              "      <th>VEG_ACRES12</th>\n",
              "      <th>ORCHARD_ACRES07</th>\n",
              "      <th>ORCHARD_ACRES12</th>\n",
              "      <th>BERRY_ACRES07</th>\n",
              "      <th>BERRY_ACRES12</th>\n",
              "    </tr>\n",
              "  </thead>\n",
              "  <tbody>\n",
              "    <tr>\n",
              "      <th>0</th>\n",
              "      <td>1001</td>\n",
              "      <td>AL</td>\n",
              "      <td>Autauga</td>\n",
              "      <td>18428.439690</td>\n",
              "      <td>17496.693040</td>\n",
              "      <td>5</td>\n",
              "      <td>3</td>\n",
              "      <td>34</td>\n",
              "      <td>44</td>\n",
              "      <td>948.0</td>\n",
              "      <td>1230.0</td>\n",
              "      <td>384.0</td>\n",
              "      <td>402.0</td>\n",
              "      <td>NaN</td>\n",
              "      <td>5.0</td>\n",
              "    </tr>\n",
              "    <tr>\n",
              "      <th>1</th>\n",
              "      <td>1003</td>\n",
              "      <td>AL</td>\n",
              "      <td>Baldwin</td>\n",
              "      <td>35210.814080</td>\n",
              "      <td>30561.264430</td>\n",
              "      <td>27</td>\n",
              "      <td>29</td>\n",
              "      <td>121</td>\n",
              "      <td>156</td>\n",
              "      <td>2280.0</td>\n",
              "      <td>1958.0</td>\n",
              "      <td>4333.0</td>\n",
              "      <td>3361.0</td>\n",
              "      <td>79.0</td>\n",
              "      <td>93.0</td>\n",
              "    </tr>\n",
              "    <tr>\n",
              "      <th>2</th>\n",
              "      <td>1005</td>\n",
              "      <td>AL</td>\n",
              "      <td>Barbour</td>\n",
              "      <td>5722.305602</td>\n",
              "      <td>6069.523628</td>\n",
              "      <td>6</td>\n",
              "      <td>4</td>\n",
              "      <td>19</td>\n",
              "      <td>23</td>\n",
              "      <td>32.0</td>\n",
              "      <td>41.0</td>\n",
              "      <td>1047.0</td>\n",
              "      <td>799.0</td>\n",
              "      <td>NaN</td>\n",
              "      <td>42.0</td>\n",
              "    </tr>\n",
              "    <tr>\n",
              "      <th>3</th>\n",
              "      <td>1007</td>\n",
              "      <td>AL</td>\n",
              "      <td>Bibb</td>\n",
              "      <td>1044.867327</td>\n",
              "      <td>969.378841</td>\n",
              "      <td>6</td>\n",
              "      <td>5</td>\n",
              "      <td>6</td>\n",
              "      <td>7</td>\n",
              "      <td>65.0</td>\n",
              "      <td>14.0</td>\n",
              "      <td>NaN</td>\n",
              "      <td>13.0</td>\n",
              "      <td>6.0</td>\n",
              "      <td>NaN</td>\n",
              "    </tr>\n",
              "    <tr>\n",
              "      <th>4</th>\n",
              "      <td>1009</td>\n",
              "      <td>AL</td>\n",
              "      <td>Blount</td>\n",
              "      <td>1548.175559</td>\n",
              "      <td>3724.428242</td>\n",
              "      <td>7</td>\n",
              "      <td>5</td>\n",
              "      <td>20</td>\n",
              "      <td>23</td>\n",
              "      <td>585.0</td>\n",
              "      <td>677.0</td>\n",
              "      <td>193.0</td>\n",
              "      <td>176.0</td>\n",
              "      <td>28.0</td>\n",
              "      <td>38.0</td>\n",
              "    </tr>\n",
              "  </tbody>\n",
              "</table>\n",
              "</div>\n",
              "      <button class=\"colab-df-convert\" onclick=\"convertToInteractive('df-48c6c053-2d56-4892-9f55-bb889bdf1f04')\"\n",
              "              title=\"Convert this dataframe to an interactive table.\"\n",
              "              style=\"display:none;\">\n",
              "        \n",
              "  <svg xmlns=\"http://www.w3.org/2000/svg\" height=\"24px\"viewBox=\"0 0 24 24\"\n",
              "       width=\"24px\">\n",
              "    <path d=\"M0 0h24v24H0V0z\" fill=\"none\"/>\n",
              "    <path d=\"M18.56 5.44l.94 2.06.94-2.06 2.06-.94-2.06-.94-.94-2.06-.94 2.06-2.06.94zm-11 1L8.5 8.5l.94-2.06 2.06-.94-2.06-.94L8.5 2.5l-.94 2.06-2.06.94zm10 10l.94 2.06.94-2.06 2.06-.94-2.06-.94-.94-2.06-.94 2.06-2.06.94z\"/><path d=\"M17.41 7.96l-1.37-1.37c-.4-.4-.92-.59-1.43-.59-.52 0-1.04.2-1.43.59L10.3 9.45l-7.72 7.72c-.78.78-.78 2.05 0 2.83L4 21.41c.39.39.9.59 1.41.59.51 0 1.02-.2 1.41-.59l7.78-7.78 2.81-2.81c.8-.78.8-2.07 0-2.86zM5.41 20L4 18.59l7.72-7.72 1.47 1.35L5.41 20z\"/>\n",
              "  </svg>\n",
              "      </button>\n",
              "      \n",
              "  <style>\n",
              "    .colab-df-container {\n",
              "      display:flex;\n",
              "      flex-wrap:wrap;\n",
              "      gap: 12px;\n",
              "    }\n",
              "\n",
              "    .colab-df-convert {\n",
              "      background-color: #E8F0FE;\n",
              "      border: none;\n",
              "      border-radius: 50%;\n",
              "      cursor: pointer;\n",
              "      display: none;\n",
              "      fill: #1967D2;\n",
              "      height: 32px;\n",
              "      padding: 0 0 0 0;\n",
              "      width: 32px;\n",
              "    }\n",
              "\n",
              "    .colab-df-convert:hover {\n",
              "      background-color: #E2EBFA;\n",
              "      box-shadow: 0px 1px 2px rgba(60, 64, 67, 0.3), 0px 1px 3px 1px rgba(60, 64, 67, 0.15);\n",
              "      fill: #174EA6;\n",
              "    }\n",
              "\n",
              "    [theme=dark] .colab-df-convert {\n",
              "      background-color: #3B4455;\n",
              "      fill: #D2E3FC;\n",
              "    }\n",
              "\n",
              "    [theme=dark] .colab-df-convert:hover {\n",
              "      background-color: #434B5C;\n",
              "      box-shadow: 0px 1px 3px 1px rgba(0, 0, 0, 0.15);\n",
              "      filter: drop-shadow(0px 1px 2px rgba(0, 0, 0, 0.3));\n",
              "      fill: #FFFFFF;\n",
              "    }\n",
              "  </style>\n",
              "\n",
              "      <script>\n",
              "        const buttonEl =\n",
              "          document.querySelector('#df-48c6c053-2d56-4892-9f55-bb889bdf1f04 button.colab-df-convert');\n",
              "        buttonEl.style.display =\n",
              "          google.colab.kernel.accessAllowed ? 'block' : 'none';\n",
              "\n",
              "        async function convertToInteractive(key) {\n",
              "          const element = document.querySelector('#df-48c6c053-2d56-4892-9f55-bb889bdf1f04');\n",
              "          const dataTable =\n",
              "            await google.colab.kernel.invokeFunction('convertToInteractive',\n",
              "                                                     [key], {});\n",
              "          if (!dataTable) return;\n",
              "\n",
              "          const docLinkHtml = 'Like what you see? Visit the ' +\n",
              "            '<a target=\"_blank\" href=https://colab.research.google.com/notebooks/data_table.ipynb>data table notebook</a>'\n",
              "            + ' to learn more about interactive tables.';\n",
              "          element.innerHTML = '';\n",
              "          dataTable['output_type'] = 'display_data';\n",
              "          await google.colab.output.renderOutput(dataTable, element);\n",
              "          const docLink = document.createElement('div');\n",
              "          docLink.innerHTML = docLinkHtml;\n",
              "          element.appendChild(docLink);\n",
              "        }\n",
              "      </script>\n",
              "    </div>\n",
              "  </div>\n",
              "  "
            ]
          },
          "metadata": {},
          "execution_count": 14
        }
      ]
    },
    {
      "cell_type": "code",
      "source": [
        "df1 = df1.dropna()"
      ],
      "metadata": {
        "id": "0GeTN3S0xXBb"
      },
      "execution_count": null,
      "outputs": []
    },
    {
      "cell_type": "code",
      "source": [
        "state_list = []\n",
        "\n",
        "for states in df1[\"State\"]:\n",
        "  if states not in state_list:\n",
        "    state_list.append(states)"
      ],
      "metadata": {
        "id": "hwJGGlcCwGNW"
      },
      "execution_count": null,
      "outputs": []
    },
    {
      "cell_type": "markdown",
      "source": [],
      "metadata": {
        "id": "Z-6Zr6LeLaBF"
      }
    },
    {
      "cell_type": "code",
      "source": [
        "sum_list1= []\n",
        "sum_list2= []\n",
        "sum_list3= []\n",
        "sum_list4= []\n",
        "sum_list5= []\n",
        "sum_list6= []\n",
        "sum_list7= []\n",
        "\n",
        "for i in state_list:\n",
        "\n",
        "  access10 = df1.loc[df1[\"State\"] == i, 'LACCESS_POP10'].sum()\n",
        "  access15 = df1.loc[df1[\"State\"] == i, 'LACCESS_POP15'].sum()\n",
        "  groc11 = df1.loc[df1[\"State\"] == i, 'GROC11'].sum()\n",
        "  groc16 = df1.loc[df1[\"State\"] == i, 'GROC16'].sum()\n",
        "  ff11 = df1.loc[df1[\"State\"] == i, 'FFR11'].sum()\n",
        "  ff16 = df1.loc[df1[\"State\"] == i, 'FFR16'].sum()\n",
        "  vacres07 = df1.loc[df1[\"State\"] == i, 'VEG_ACRES07'].sum()\n",
        "  vacres12 = df1.loc[df1[\"State\"] == i, 'VEG_ACRES12'].sum()\n",
        "  oacres07 = df1.loc[df1[\"State\"] == i, 'ORCHARD_ACRES07'].sum()\n",
        "  oacres12 = df1.loc[df1[\"State\"] == i, 'ORCHARD_ACRES12'].sum()\n",
        "  bacres07 = df1.loc[df1[\"State\"] == i, 'BERRY_ACRES07'].sum()\n",
        "  bacres12 = df1.loc[df1[\"State\"] == i, 'BERRY_ACRES12'].sum()\n",
        "  tacres07 = vacres07+oacres07+bacres07\n",
        "  tacres12 = vacres12+oacres12+bacres12\n",
        "  \n",
        "  sum_list1.append(((access15 - access10)/access10)*100)\n",
        "  sum_list2.append(((groc16 - groc11)/groc11)*100)\n",
        "  sum_list3.append(((ff16 - ff11)/ff11)*100)\n",
        "  sum_list4.append(((vacres12 - vacres07)/vacres07)*100)\n",
        "  sum_list5.append(((oacres12 - oacres07)/oacres07)*100)\n",
        "  sum_list6.append(((bacres12 - bacres07)/bacres07)*100)\n",
        "  sum_list7.append(((tacres12 - tacres07)/tacres07)*100)\n"
      ],
      "metadata": {
        "id": "Cr4Idty3WDrx",
        "colab": {
          "base_uri": "https://localhost:8080/"
        },
        "outputId": "bc8b6e6b-65c4-4a14-f425-6a62d1916eeb"
      },
      "execution_count": null,
      "outputs": [
        {
          "output_type": "stream",
          "name": "stderr",
          "text": [
            "/usr/local/lib/python3.7/dist-packages/ipykernel_launcher.py:31: RuntimeWarning: invalid value encountered in double_scalars\n",
            "/usr/local/lib/python3.7/dist-packages/ipykernel_launcher.py:29: RuntimeWarning: invalid value encountered in double_scalars\n",
            "/usr/local/lib/python3.7/dist-packages/ipykernel_launcher.py:30: RuntimeWarning: invalid value encountered in double_scalars\n",
            "/usr/local/lib/python3.7/dist-packages/ipykernel_launcher.py:32: RuntimeWarning: invalid value encountered in double_scalars\n",
            "/usr/local/lib/python3.7/dist-packages/ipykernel_launcher.py:30: RuntimeWarning: divide by zero encountered in double_scalars\n"
          ]
        }
      ]
    },
    {
      "cell_type": "code",
      "source": [
        "df2 = pd.DataFrame()\n",
        "\n",
        "\n",
        "df2['States'] = state_list\n",
        "df2['PCH_LACCESS_POP_10_15'] = sum_list1\n",
        "df2['PCH_GROC_11_16'] = sum_list2\n",
        "df2['PCH_FFR_11_16'] = sum_list3\n",
        "df2['PCH_VEG_ACRES_07_12'] = sum_list4\n",
        "df2['PCH_ORCHARD_ACRES_07_12'] = sum_list5\n",
        "df2['PCH_BERRY_ACRES_07_12'] = sum_list6\n",
        "df2['PCH_TOTAL_ACRES_07_12'] = sum_list7"
      ],
      "metadata": {
        "id": "uleon_FWZunc"
      },
      "execution_count": null,
      "outputs": []
    },
    {
      "cell_type": "code",
      "source": [
        "df2 = df2.dropna()"
      ],
      "metadata": {
        "id": "evs0K_0oiJYv"
      },
      "execution_count": null,
      "outputs": []
    },
    {
      "cell_type": "code",
      "source": [
        "na_free = df2.dropna()\n",
        "only_na = df2[~df2.index.isin(na_free.index)]\n",
        "only_na"
      ],
      "metadata": {
        "colab": {
          "base_uri": "https://localhost:8080/",
          "height": 144
        },
        "id": "rsf3Y4V4yGv6",
        "outputId": "1ffea0e8-3df2-42a8-b68e-83c53b918218"
      },
      "execution_count": null,
      "outputs": [
        {
          "output_type": "execute_result",
          "data": {
            "text/plain": [
              "   States  PCH_LACCESS_POP_10_15  PCH_GROC_11_16  PCH_FFR_11_16  \\\n",
              "8      HI               6.769505       -1.337793        2.47012   \n",
              "25     NV              60.608046        0.000000      -25.00000   \n",
              "47     WY              37.860288      -11.111111       25.00000   \n",
              "\n",
              "    PCH_VEG_ACRES_07_12  PCH_ORCHARD_ACRES_07_12  PCH_BERRY_ACRES_07_12  \\\n",
              "8              29.71078                -2.239926                    NaN   \n",
              "25                  NaN                      NaN                    NaN   \n",
              "47                  NaN                      NaN                    NaN   \n",
              "\n",
              "    PCH_TOTAL_ACRES_07_12  \n",
              "8                 2.78857  \n",
              "25                    NaN  \n",
              "47                    NaN  "
            ],
            "text/html": [
              "\n",
              "  <div id=\"df-34f3dc63-fa0c-4bff-b7f7-ec3678cbd1e4\">\n",
              "    <div class=\"colab-df-container\">\n",
              "      <div>\n",
              "<style scoped>\n",
              "    .dataframe tbody tr th:only-of-type {\n",
              "        vertical-align: middle;\n",
              "    }\n",
              "\n",
              "    .dataframe tbody tr th {\n",
              "        vertical-align: top;\n",
              "    }\n",
              "\n",
              "    .dataframe thead th {\n",
              "        text-align: right;\n",
              "    }\n",
              "</style>\n",
              "<table border=\"1\" class=\"dataframe\">\n",
              "  <thead>\n",
              "    <tr style=\"text-align: right;\">\n",
              "      <th></th>\n",
              "      <th>States</th>\n",
              "      <th>PCH_LACCESS_POP_10_15</th>\n",
              "      <th>PCH_GROC_11_16</th>\n",
              "      <th>PCH_FFR_11_16</th>\n",
              "      <th>PCH_VEG_ACRES_07_12</th>\n",
              "      <th>PCH_ORCHARD_ACRES_07_12</th>\n",
              "      <th>PCH_BERRY_ACRES_07_12</th>\n",
              "      <th>PCH_TOTAL_ACRES_07_12</th>\n",
              "    </tr>\n",
              "  </thead>\n",
              "  <tbody>\n",
              "    <tr>\n",
              "      <th>8</th>\n",
              "      <td>HI</td>\n",
              "      <td>6.769505</td>\n",
              "      <td>-1.337793</td>\n",
              "      <td>2.47012</td>\n",
              "      <td>29.71078</td>\n",
              "      <td>-2.239926</td>\n",
              "      <td>NaN</td>\n",
              "      <td>2.78857</td>\n",
              "    </tr>\n",
              "    <tr>\n",
              "      <th>25</th>\n",
              "      <td>NV</td>\n",
              "      <td>60.608046</td>\n",
              "      <td>0.000000</td>\n",
              "      <td>-25.00000</td>\n",
              "      <td>NaN</td>\n",
              "      <td>NaN</td>\n",
              "      <td>NaN</td>\n",
              "      <td>NaN</td>\n",
              "    </tr>\n",
              "    <tr>\n",
              "      <th>47</th>\n",
              "      <td>WY</td>\n",
              "      <td>37.860288</td>\n",
              "      <td>-11.111111</td>\n",
              "      <td>25.00000</td>\n",
              "      <td>NaN</td>\n",
              "      <td>NaN</td>\n",
              "      <td>NaN</td>\n",
              "      <td>NaN</td>\n",
              "    </tr>\n",
              "  </tbody>\n",
              "</table>\n",
              "</div>\n",
              "      <button class=\"colab-df-convert\" onclick=\"convertToInteractive('df-34f3dc63-fa0c-4bff-b7f7-ec3678cbd1e4')\"\n",
              "              title=\"Convert this dataframe to an interactive table.\"\n",
              "              style=\"display:none;\">\n",
              "        \n",
              "  <svg xmlns=\"http://www.w3.org/2000/svg\" height=\"24px\"viewBox=\"0 0 24 24\"\n",
              "       width=\"24px\">\n",
              "    <path d=\"M0 0h24v24H0V0z\" fill=\"none\"/>\n",
              "    <path d=\"M18.56 5.44l.94 2.06.94-2.06 2.06-.94-2.06-.94-.94-2.06-.94 2.06-2.06.94zm-11 1L8.5 8.5l.94-2.06 2.06-.94-2.06-.94L8.5 2.5l-.94 2.06-2.06.94zm10 10l.94 2.06.94-2.06 2.06-.94-2.06-.94-.94-2.06-.94 2.06-2.06.94z\"/><path d=\"M17.41 7.96l-1.37-1.37c-.4-.4-.92-.59-1.43-.59-.52 0-1.04.2-1.43.59L10.3 9.45l-7.72 7.72c-.78.78-.78 2.05 0 2.83L4 21.41c.39.39.9.59 1.41.59.51 0 1.02-.2 1.41-.59l7.78-7.78 2.81-2.81c.8-.78.8-2.07 0-2.86zM5.41 20L4 18.59l7.72-7.72 1.47 1.35L5.41 20z\"/>\n",
              "  </svg>\n",
              "      </button>\n",
              "      \n",
              "  <style>\n",
              "    .colab-df-container {\n",
              "      display:flex;\n",
              "      flex-wrap:wrap;\n",
              "      gap: 12px;\n",
              "    }\n",
              "\n",
              "    .colab-df-convert {\n",
              "      background-color: #E8F0FE;\n",
              "      border: none;\n",
              "      border-radius: 50%;\n",
              "      cursor: pointer;\n",
              "      display: none;\n",
              "      fill: #1967D2;\n",
              "      height: 32px;\n",
              "      padding: 0 0 0 0;\n",
              "      width: 32px;\n",
              "    }\n",
              "\n",
              "    .colab-df-convert:hover {\n",
              "      background-color: #E2EBFA;\n",
              "      box-shadow: 0px 1px 2px rgba(60, 64, 67, 0.3), 0px 1px 3px 1px rgba(60, 64, 67, 0.15);\n",
              "      fill: #174EA6;\n",
              "    }\n",
              "\n",
              "    [theme=dark] .colab-df-convert {\n",
              "      background-color: #3B4455;\n",
              "      fill: #D2E3FC;\n",
              "    }\n",
              "\n",
              "    [theme=dark] .colab-df-convert:hover {\n",
              "      background-color: #434B5C;\n",
              "      box-shadow: 0px 1px 3px 1px rgba(0, 0, 0, 0.15);\n",
              "      filter: drop-shadow(0px 1px 2px rgba(0, 0, 0, 0.3));\n",
              "      fill: #FFFFFF;\n",
              "    }\n",
              "  </style>\n",
              "\n",
              "      <script>\n",
              "        const buttonEl =\n",
              "          document.querySelector('#df-34f3dc63-fa0c-4bff-b7f7-ec3678cbd1e4 button.colab-df-convert');\n",
              "        buttonEl.style.display =\n",
              "          google.colab.kernel.accessAllowed ? 'block' : 'none';\n",
              "\n",
              "        async function convertToInteractive(key) {\n",
              "          const element = document.querySelector('#df-34f3dc63-fa0c-4bff-b7f7-ec3678cbd1e4');\n",
              "          const dataTable =\n",
              "            await google.colab.kernel.invokeFunction('convertToInteractive',\n",
              "                                                     [key], {});\n",
              "          if (!dataTable) return;\n",
              "\n",
              "          const docLinkHtml = 'Like what you see? Visit the ' +\n",
              "            '<a target=\"_blank\" href=https://colab.research.google.com/notebooks/data_table.ipynb>data table notebook</a>'\n",
              "            + ' to learn more about interactive tables.';\n",
              "          element.innerHTML = '';\n",
              "          dataTable['output_type'] = 'display_data';\n",
              "          await google.colab.output.renderOutput(dataTable, element);\n",
              "          const docLink = document.createElement('div');\n",
              "          docLink.innerHTML = docLinkHtml;\n",
              "          element.appendChild(docLink);\n",
              "        }\n",
              "      </script>\n",
              "    </div>\n",
              "  </div>\n",
              "  "
            ]
          },
          "metadata": {},
          "execution_count": 7
        }
      ]
    },
    {
      "cell_type": "code",
      "source": [
        "states = [ 'AK', 'AL', 'AR', 'AZ', 'CA', 'CO', 'CT', 'DC', 'DE', 'FL', 'GA',\n",
        "           'HI', 'IA', 'ID', 'IL', 'IN', 'KS', 'KY', 'LA', 'MA', 'MD', 'ME',\n",
        "           'MI', 'MN', 'MO', 'MS', 'MT', 'NC', 'ND', 'NE', 'NH', 'NJ', 'NM',\n",
        "           'NV', 'NY', 'OH', 'OK', 'OR', 'PA', 'RI', 'SC', 'SD', 'TN', 'TX',\n",
        "           'UT', 'VA', 'VT', 'WA', 'WI', 'WV', 'WY']\n",
        "\n",
        "len(states)"
      ],
      "metadata": {
        "colab": {
          "base_uri": "https://localhost:8080/"
        },
        "id": "PGaBWjWnzF41",
        "outputId": "69d837ae-e4f7-443a-9fa0-e9ca929198f4"
      },
      "execution_count": null,
      "outputs": [
        {
          "output_type": "execute_result",
          "data": {
            "text/plain": [
              "51"
            ]
          },
          "metadata": {},
          "execution_count": 18
        }
      ]
    },
    {
      "cell_type": "code",
      "source": [
        "df1.to_csv('FEA_Access_cleaned.csv')\n",
        "!cp FEA_Access_cleaned.csv \"drive/My Drive/\""
      ],
      "metadata": {
        "id": "R90lgfA6yBrn"
      },
      "execution_count": null,
      "outputs": []
    },
    {
      "cell_type": "code",
      "source": [
        "df2.to_csv('FEA_State_cleaned.csv')\n",
        "!cp FEA_State_cleaned.csv \"drive/My Drive/\""
      ],
      "metadata": {
        "id": "Kc1pAgrrCJv_"
      },
      "execution_count": null,
      "outputs": []
    }
  ]
}